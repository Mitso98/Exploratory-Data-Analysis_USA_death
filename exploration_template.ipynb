{
 "cells": [
  {
   "cell_type": "markdown",
   "metadata": {},
   "source": [
    "# Death Dataset Exploration\n",
    "## by Mostafa Ahmed\n",
    "\n",
    "> This dataset is about abnormal death information of America"
   ]
  },
  {
   "cell_type": "code",
   "execution_count": 2,
   "metadata": {},
   "outputs": [],
   "source": [
    "# import all packages and set plots to be embedded inline\n",
    "import numpy as np\n",
    "import pandas as pd\n",
    "import matplotlib.pyplot as plt\n",
    "import seaborn as sb\n",
    "import re\n",
    "from matplotlib import cm\n",
    "\n",
    "%matplotlib inline"
   ]
  },
  {
   "cell_type": "markdown",
   "metadata": {},
   "source": [
    "## Preliminary Wrangling"
   ]
  },
  {
   "cell_type": "markdown",
   "metadata": {},
   "source": [
    "## Gathering"
   ]
  },
  {
   "cell_type": "code",
   "execution_count": 3,
   "metadata": {},
   "outputs": [],
   "source": [
    "df = pd.read_csv(\"Death data.csv\")"
   ]
  },
  {
   "cell_type": "markdown",
   "metadata": {},
   "source": [
    "## Assessing"
   ]
  },
  {
   "cell_type": "code",
   "execution_count": 3,
   "metadata": {},
   "outputs": [
    {
     "data": {
      "text/html": [
       "<div>\n",
       "<style scoped>\n",
       "    .dataframe tbody tr th:only-of-type {\n",
       "        vertical-align: middle;\n",
       "    }\n",
       "\n",
       "    .dataframe tbody tr th {\n",
       "        vertical-align: top;\n",
       "    }\n",
       "\n",
       "    .dataframe thead th {\n",
       "        text-align: right;\n",
       "    }\n",
       "</style>\n",
       "<table border=\"1\" class=\"dataframe\">\n",
       "  <thead>\n",
       "    <tr style=\"text-align: right;\">\n",
       "      <th></th>\n",
       "      <th>day</th>\n",
       "      <th>year</th>\n",
       "      <th>month</th>\n",
       "      <th>intent</th>\n",
       "      <th>police</th>\n",
       "      <th>sex</th>\n",
       "      <th>age</th>\n",
       "      <th>race</th>\n",
       "      <th>hispanic</th>\n",
       "      <th>place</th>\n",
       "      <th>education</th>\n",
       "    </tr>\n",
       "  </thead>\n",
       "  <tbody>\n",
       "    <tr>\n",
       "      <th>0</th>\n",
       "      <td>1</td>\n",
       "      <td>2012</td>\n",
       "      <td>1</td>\n",
       "      <td>Suicide</td>\n",
       "      <td>0</td>\n",
       "      <td>M</td>\n",
       "      <td>34.0</td>\n",
       "      <td>Asian/Pacific Islander</td>\n",
       "      <td>100</td>\n",
       "      <td>Home</td>\n",
       "      <td>BA+</td>\n",
       "    </tr>\n",
       "    <tr>\n",
       "      <th>1</th>\n",
       "      <td>2</td>\n",
       "      <td>2012</td>\n",
       "      <td>1</td>\n",
       "      <td>Suicide</td>\n",
       "      <td>0</td>\n",
       "      <td>F</td>\n",
       "      <td>21.0</td>\n",
       "      <td>White</td>\n",
       "      <td>100</td>\n",
       "      <td>Street</td>\n",
       "      <td>Some college</td>\n",
       "    </tr>\n",
       "    <tr>\n",
       "      <th>2</th>\n",
       "      <td>3</td>\n",
       "      <td>2012</td>\n",
       "      <td>1</td>\n",
       "      <td>Suicide</td>\n",
       "      <td>0</td>\n",
       "      <td>M</td>\n",
       "      <td>60.0</td>\n",
       "      <td>White</td>\n",
       "      <td>100</td>\n",
       "      <td>Other specified</td>\n",
       "      <td>BA+</td>\n",
       "    </tr>\n",
       "    <tr>\n",
       "      <th>3</th>\n",
       "      <td>4</td>\n",
       "      <td>2012</td>\n",
       "      <td>2</td>\n",
       "      <td>Suicide</td>\n",
       "      <td>0</td>\n",
       "      <td>M</td>\n",
       "      <td>64.0</td>\n",
       "      <td>White</td>\n",
       "      <td>100</td>\n",
       "      <td>Home</td>\n",
       "      <td>BA+</td>\n",
       "    </tr>\n",
       "    <tr>\n",
       "      <th>4</th>\n",
       "      <td>5</td>\n",
       "      <td>2012</td>\n",
       "      <td>2</td>\n",
       "      <td>Suicide</td>\n",
       "      <td>0</td>\n",
       "      <td>M</td>\n",
       "      <td>31.0</td>\n",
       "      <td>White</td>\n",
       "      <td>100</td>\n",
       "      <td>Other specified</td>\n",
       "      <td>HS/GED</td>\n",
       "    </tr>\n",
       "    <tr>\n",
       "      <th>...</th>\n",
       "      <td>...</td>\n",
       "      <td>...</td>\n",
       "      <td>...</td>\n",
       "      <td>...</td>\n",
       "      <td>...</td>\n",
       "      <td>...</td>\n",
       "      <td>...</td>\n",
       "      <td>...</td>\n",
       "      <td>...</td>\n",
       "      <td>...</td>\n",
       "      <td>...</td>\n",
       "    </tr>\n",
       "    <tr>\n",
       "      <th>100793</th>\n",
       "      <td>100794</td>\n",
       "      <td>2014</td>\n",
       "      <td>12</td>\n",
       "      <td>Homicide</td>\n",
       "      <td>0</td>\n",
       "      <td>M</td>\n",
       "      <td>36.0</td>\n",
       "      <td>Black</td>\n",
       "      <td>100</td>\n",
       "      <td>Home</td>\n",
       "      <td>HS/GED</td>\n",
       "    </tr>\n",
       "    <tr>\n",
       "      <th>100794</th>\n",
       "      <td>100795</td>\n",
       "      <td>2014</td>\n",
       "      <td>12</td>\n",
       "      <td>Homicide</td>\n",
       "      <td>0</td>\n",
       "      <td>M</td>\n",
       "      <td>19.0</td>\n",
       "      <td>Black</td>\n",
       "      <td>100</td>\n",
       "      <td>Street</td>\n",
       "      <td>HS/GED</td>\n",
       "    </tr>\n",
       "    <tr>\n",
       "      <th>100795</th>\n",
       "      <td>100796</td>\n",
       "      <td>2014</td>\n",
       "      <td>12</td>\n",
       "      <td>Homicide</td>\n",
       "      <td>0</td>\n",
       "      <td>M</td>\n",
       "      <td>20.0</td>\n",
       "      <td>Black</td>\n",
       "      <td>100</td>\n",
       "      <td>Street</td>\n",
       "      <td>HS/GED</td>\n",
       "    </tr>\n",
       "    <tr>\n",
       "      <th>100796</th>\n",
       "      <td>100797</td>\n",
       "      <td>2014</td>\n",
       "      <td>12</td>\n",
       "      <td>Homicide</td>\n",
       "      <td>0</td>\n",
       "      <td>M</td>\n",
       "      <td>22.0</td>\n",
       "      <td>Hispanic</td>\n",
       "      <td>260</td>\n",
       "      <td>Street</td>\n",
       "      <td>Less than HS</td>\n",
       "    </tr>\n",
       "    <tr>\n",
       "      <th>100797</th>\n",
       "      <td>100798</td>\n",
       "      <td>2014</td>\n",
       "      <td>10</td>\n",
       "      <td>Homicide</td>\n",
       "      <td>0</td>\n",
       "      <td>M</td>\n",
       "      <td>43.0</td>\n",
       "      <td>Black</td>\n",
       "      <td>100</td>\n",
       "      <td>Other unspecified</td>\n",
       "      <td>HS/GED</td>\n",
       "    </tr>\n",
       "  </tbody>\n",
       "</table>\n",
       "<p>100798 rows × 11 columns</p>\n",
       "</div>"
      ],
      "text/plain": [
       "           day  year  month    intent  police sex   age  \\\n",
       "0            1  2012      1   Suicide       0   M  34.0   \n",
       "1            2  2012      1   Suicide       0   F  21.0   \n",
       "2            3  2012      1   Suicide       0   M  60.0   \n",
       "3            4  2012      2   Suicide       0   M  64.0   \n",
       "4            5  2012      2   Suicide       0   M  31.0   \n",
       "...        ...   ...    ...       ...     ...  ..   ...   \n",
       "100793  100794  2014     12  Homicide       0   M  36.0   \n",
       "100794  100795  2014     12  Homicide       0   M  19.0   \n",
       "100795  100796  2014     12  Homicide       0   M  20.0   \n",
       "100796  100797  2014     12  Homicide       0   M  22.0   \n",
       "100797  100798  2014     10  Homicide       0   M  43.0   \n",
       "\n",
       "                          race  hispanic              place     education  \n",
       "0       Asian/Pacific Islander       100               Home           BA+  \n",
       "1                        White       100             Street  Some college  \n",
       "2                        White       100    Other specified           BA+  \n",
       "3                        White       100               Home           BA+  \n",
       "4                        White       100    Other specified        HS/GED  \n",
       "...                        ...       ...                ...           ...  \n",
       "100793                   Black       100               Home        HS/GED  \n",
       "100794                   Black       100             Street        HS/GED  \n",
       "100795                   Black       100             Street        HS/GED  \n",
       "100796                Hispanic       260             Street  Less than HS  \n",
       "100797                   Black       100  Other unspecified        HS/GED  \n",
       "\n",
       "[100798 rows x 11 columns]"
      ]
     },
     "execution_count": 3,
     "metadata": {},
     "output_type": "execute_result"
    }
   ],
   "source": [
    "df"
   ]
  },
  {
   "cell_type": "code",
   "execution_count": 4,
   "metadata": {},
   "outputs": [
    {
     "data": {
      "text/plain": [
       "(100798, 11)"
      ]
     },
     "execution_count": 4,
     "metadata": {},
     "output_type": "execute_result"
    }
   ],
   "source": [
    "df.shape"
   ]
  },
  {
   "cell_type": "code",
   "execution_count": 5,
   "metadata": {},
   "outputs": [
    {
     "name": "stdout",
     "output_type": "stream",
     "text": [
      "<class 'pandas.core.frame.DataFrame'>\n",
      "RangeIndex: 100798 entries, 0 to 100797\n",
      "Data columns (total 11 columns):\n",
      " #   Column     Non-Null Count   Dtype  \n",
      "---  ------     --------------   -----  \n",
      " 0   day        100798 non-null  int64  \n",
      " 1   year       100798 non-null  int64  \n",
      " 2   month      100798 non-null  int64  \n",
      " 3   intent     100797 non-null  object \n",
      " 4   police     100798 non-null  int64  \n",
      " 5   sex        100798 non-null  object \n",
      " 6   age        100780 non-null  float64\n",
      " 7   race       100798 non-null  object \n",
      " 8   hispanic   100798 non-null  int64  \n",
      " 9   place      99414 non-null   object \n",
      " 10  education  99376 non-null   object \n",
      "dtypes: float64(1), int64(5), object(5)\n",
      "memory usage: 8.5+ MB\n"
     ]
    }
   ],
   "source": [
    "df.info()"
   ]
  },
  {
   "cell_type": "code",
   "execution_count": 6,
   "metadata": {},
   "outputs": [
    {
     "data": {
      "text/plain": [
       "array([ 1,  2,  3,  4,  5,  6,  7,  8,  9, 10, 11, 12], dtype=int64)"
      ]
     },
     "execution_count": 6,
     "metadata": {},
     "output_type": "execute_result"
    }
   ],
   "source": [
    "df[\"month\"].unique()"
   ]
  },
  {
   "cell_type": "code",
   "execution_count": 7,
   "metadata": {},
   "outputs": [
    {
     "data": {
      "text/plain": [
       "array([     1,      2,      3, ..., 100796, 100797, 100798], dtype=int64)"
      ]
     },
     "execution_count": 7,
     "metadata": {},
     "output_type": "execute_result"
    }
   ],
   "source": [
    "df[\"day\"].unique()"
   ]
  },
  {
   "cell_type": "code",
   "execution_count": null,
   "metadata": {},
   "outputs": [],
   "source": []
  },
  {
   "cell_type": "markdown",
   "metadata": {},
   "source": [
    "### Quality Issues\n",
    "- column hispanic does not make sense\n",
    "- day column does not make sense\n",
    "- police data type is integer\n",
    "- age data type is float\n",
    "- drop month,day,year columns after creating date column combines them\n",
    "- convert date column to date time data type<br>\n"
   ]
  },
  {
   "cell_type": "markdown",
   "metadata": {},
   "source": [
    "### Tidiness Issues\n",
    "- day, year, month are in differant columns"
   ]
  },
  {
   "cell_type": "markdown",
   "metadata": {},
   "source": [
    "## Cleaning\n",
    "- First Quality Issues"
   ]
  },
  {
   "cell_type": "code",
   "execution_count": 8,
   "metadata": {},
   "outputs": [],
   "source": [
    "# create a copy to clean\n",
    "df_clean = df.copy()"
   ]
  },
  {
   "cell_type": "markdown",
   "metadata": {},
   "source": [
    "**Problem: column hispanic does not make sense.**<br>\n",
    "**Sloution: drop it.**<br>\n",
    "**Code:**"
   ]
  },
  {
   "cell_type": "code",
   "execution_count": 9,
   "metadata": {},
   "outputs": [],
   "source": [
    "df_clean.drop(\"hispanic\",axis = 1,inplace = True)"
   ]
  },
  {
   "cell_type": "markdown",
   "metadata": {},
   "source": [
    "**Test**"
   ]
  },
  {
   "cell_type": "code",
   "execution_count": 10,
   "metadata": {},
   "outputs": [
    {
     "data": {
      "text/plain": [
       "False"
      ]
     },
     "execution_count": 10,
     "metadata": {},
     "output_type": "execute_result"
    }
   ],
   "source": [
    "# check whether hispanic is in df columns, expected: False\n",
    "\"hispanic\" in df_clean.columns"
   ]
  },
  {
   "cell_type": "markdown",
   "metadata": {},
   "source": [
    "**Problem: day column does not make sense**<br><br>\n",
    "**Sloution: when the data explored manually i found that days are just a counter for data, i looked at the months sequance they were inconsistent so we can't fix days and make them from 1 to 30 every month, SO the best sloution is to drop this column**<br><br>\n",
    "**Code:**"
   ]
  },
  {
   "cell_type": "code",
   "execution_count": 11,
   "metadata": {},
   "outputs": [],
   "source": [
    "df_clean.drop(\"day\", axis=1,inplace = True)"
   ]
  },
  {
   "cell_type": "markdown",
   "metadata": {},
   "source": [
    "**Problem: police data type is integer.**<br>\n",
    "**Sloution: change it's data type to bolean**<br>\n",
    "**Code:**"
   ]
  },
  {
   "cell_type": "code",
   "execution_count": 12,
   "metadata": {},
   "outputs": [],
   "source": [
    "df_clean[\"police\"] = df_clean[\"police\"].astype(bool)"
   ]
  },
  {
   "cell_type": "markdown",
   "metadata": {},
   "source": [
    "**Test:**"
   ]
  },
  {
   "cell_type": "code",
   "execution_count": 13,
   "metadata": {},
   "outputs": [
    {
     "name": "stdout",
     "output_type": "stream",
     "text": [
      "<class 'pandas.core.frame.DataFrame'>\n",
      "RangeIndex: 100798 entries, 0 to 100797\n",
      "Data columns (total 9 columns):\n",
      " #   Column     Non-Null Count   Dtype  \n",
      "---  ------     --------------   -----  \n",
      " 0   year       100798 non-null  int64  \n",
      " 1   month      100798 non-null  int64  \n",
      " 2   intent     100797 non-null  object \n",
      " 3   police     100798 non-null  bool   \n",
      " 4   sex        100798 non-null  object \n",
      " 5   age        100780 non-null  float64\n",
      " 6   race       100798 non-null  object \n",
      " 7   place      99414 non-null   object \n",
      " 8   education  99376 non-null   object \n",
      "dtypes: bool(1), float64(1), int64(2), object(5)\n",
      "memory usage: 6.2+ MB\n"
     ]
    }
   ],
   "source": [
    "df_clean.info()"
   ]
  },
  {
   "cell_type": "markdown",
   "metadata": {},
   "source": [
    "**Problem: age data type is float.**<br>\n",
    "**Sloution: change it's data type to integer**<br>\n",
    "**Code:**"
   ]
  },
  {
   "cell_type": "code",
   "execution_count": 14,
   "metadata": {},
   "outputs": [],
   "source": [
    "df_clean[\"age\"] = df_clean[\"age\"].fillna(0).astype(int)"
   ]
  },
  {
   "cell_type": "markdown",
   "metadata": {},
   "source": [
    "**Test:**"
   ]
  },
  {
   "cell_type": "code",
   "execution_count": 15,
   "metadata": {},
   "outputs": [
    {
     "name": "stdout",
     "output_type": "stream",
     "text": [
      "<class 'pandas.core.frame.DataFrame'>\n",
      "RangeIndex: 100798 entries, 0 to 100797\n",
      "Data columns (total 9 columns):\n",
      " #   Column     Non-Null Count   Dtype \n",
      "---  ------     --------------   ----- \n",
      " 0   year       100798 non-null  int64 \n",
      " 1   month      100798 non-null  int64 \n",
      " 2   intent     100797 non-null  object\n",
      " 3   police     100798 non-null  bool  \n",
      " 4   sex        100798 non-null  object\n",
      " 5   age        100798 non-null  int32 \n",
      " 6   race       100798 non-null  object\n",
      " 7   place      99414 non-null   object\n",
      " 8   education  99376 non-null   object\n",
      "dtypes: bool(1), int32(1), int64(2), object(5)\n",
      "memory usage: 5.9+ MB\n"
     ]
    }
   ],
   "source": [
    "df_clean.info()"
   ]
  },
  {
   "cell_type": "markdown",
   "metadata": {},
   "source": [
    "> for programtical reasons i need to work on that tidiness issue then continue solving the last quality issue"
   ]
  },
  {
   "cell_type": "markdown",
   "metadata": {},
   "source": [
    "- Second Tidiness Issues"
   ]
  },
  {
   "cell_type": "markdown",
   "metadata": {},
   "source": [
    "**Problem:  year, month are in differant columns.**<br>\n",
    "**Sloution: create column called date that compines them.**<br>\n",
    "**Code:**"
   ]
  },
  {
   "cell_type": "code",
   "execution_count": 16,
   "metadata": {},
   "outputs": [],
   "source": [
    "# This peace of code takes about 5 minutes\n",
    "# convert month from number to charchters and combines month and year into date column\n",
    "\n",
    "df_clean[\"date\"] = 'NA'\n",
    "\n",
    "month_dict = {1:\"Jan\", 2:\"Feb\", 3:\"Mar\", 4:\"Apr\", 5:\"May\", 6:\"Jun\", 7:\"July\", 8:\"Aug\", 9:\"Sep\",\\\n",
    "                 10:\"Oct\", 11:\"Nov\", 12:\"Dec\"}\n",
    "\n",
    "for i in range(df_clean.shape[0]):\n",
    "    month = df_clean[\"month\"][i]\n",
    "    year = df_clean[\"year\"][i]\n",
    "    df_clean.loc[i,\"date\"] = month_dict[month] + \" \" + str(year)"
   ]
  },
  {
   "cell_type": "markdown",
   "metadata": {},
   "source": [
    "**Test:**"
   ]
  },
  {
   "cell_type": "code",
   "execution_count": 17,
   "metadata": {},
   "outputs": [
    {
     "data": {
      "text/plain": [
       "0         Jan 2012\n",
       "1         Jan 2012\n",
       "2         Jan 2012\n",
       "3         Feb 2012\n",
       "4         Feb 2012\n",
       "            ...   \n",
       "100793    Dec 2014\n",
       "100794    Dec 2014\n",
       "100795    Dec 2014\n",
       "100796    Dec 2014\n",
       "100797    Oct 2014\n",
       "Name: date, Length: 100798, dtype: object"
      ]
     },
     "execution_count": 17,
     "metadata": {},
     "output_type": "execute_result"
    }
   ],
   "source": [
    "\n",
    "# check date column\n",
    "df_clean.date"
   ]
  },
  {
   "cell_type": "markdown",
   "metadata": {},
   "source": [
    "### Continue Fixing Quality Issues:"
   ]
  },
  {
   "cell_type": "markdown",
   "metadata": {},
   "source": [
    "**Problem: drop month,day,year columns after creating date column combines them**<br>\n",
    "**Sloution: drop them**<br>\n",
    "**Code:**"
   ]
  },
  {
   "cell_type": "code",
   "execution_count": 18,
   "metadata": {},
   "outputs": [],
   "source": [
    "cols = [\"month\",\"year\"]\n",
    "df_clean.drop(cols,axis=1,inplace=True)"
   ]
  },
  {
   "cell_type": "markdown",
   "metadata": {},
   "source": [
    "**Test:**"
   ]
  },
  {
   "cell_type": "code",
   "execution_count": 19,
   "metadata": {},
   "outputs": [
    {
     "name": "stdout",
     "output_type": "stream",
     "text": [
      "Test Passed\n"
     ]
    }
   ],
   "source": [
    "def test_cols(check,referance):\n",
    "    for elm in referance:\n",
    "        if elm in check:\n",
    "            print(\"Test Failed\")\n",
    "            break\n",
    "    print(\"Test Passed\")\n",
    "    \n",
    "    \n",
    "test_cols(cols,df_clean.columns)"
   ]
  },
  {
   "cell_type": "code",
   "execution_count": 20,
   "metadata": {},
   "outputs": [
    {
     "data": {
      "text/html": [
       "<div>\n",
       "<style scoped>\n",
       "    .dataframe tbody tr th:only-of-type {\n",
       "        vertical-align: middle;\n",
       "    }\n",
       "\n",
       "    .dataframe tbody tr th {\n",
       "        vertical-align: top;\n",
       "    }\n",
       "\n",
       "    .dataframe thead th {\n",
       "        text-align: right;\n",
       "    }\n",
       "</style>\n",
       "<table border=\"1\" class=\"dataframe\">\n",
       "  <thead>\n",
       "    <tr style=\"text-align: right;\">\n",
       "      <th></th>\n",
       "      <th>intent</th>\n",
       "      <th>police</th>\n",
       "      <th>sex</th>\n",
       "      <th>age</th>\n",
       "      <th>race</th>\n",
       "      <th>place</th>\n",
       "      <th>education</th>\n",
       "      <th>date</th>\n",
       "    </tr>\n",
       "  </thead>\n",
       "  <tbody>\n",
       "    <tr>\n",
       "      <th>0</th>\n",
       "      <td>Suicide</td>\n",
       "      <td>False</td>\n",
       "      <td>M</td>\n",
       "      <td>34</td>\n",
       "      <td>Asian/Pacific Islander</td>\n",
       "      <td>Home</td>\n",
       "      <td>BA+</td>\n",
       "      <td>Jan 2012</td>\n",
       "    </tr>\n",
       "    <tr>\n",
       "      <th>1</th>\n",
       "      <td>Suicide</td>\n",
       "      <td>False</td>\n",
       "      <td>F</td>\n",
       "      <td>21</td>\n",
       "      <td>White</td>\n",
       "      <td>Street</td>\n",
       "      <td>Some college</td>\n",
       "      <td>Jan 2012</td>\n",
       "    </tr>\n",
       "    <tr>\n",
       "      <th>2</th>\n",
       "      <td>Suicide</td>\n",
       "      <td>False</td>\n",
       "      <td>M</td>\n",
       "      <td>60</td>\n",
       "      <td>White</td>\n",
       "      <td>Other specified</td>\n",
       "      <td>BA+</td>\n",
       "      <td>Jan 2012</td>\n",
       "    </tr>\n",
       "    <tr>\n",
       "      <th>3</th>\n",
       "      <td>Suicide</td>\n",
       "      <td>False</td>\n",
       "      <td>M</td>\n",
       "      <td>64</td>\n",
       "      <td>White</td>\n",
       "      <td>Home</td>\n",
       "      <td>BA+</td>\n",
       "      <td>Feb 2012</td>\n",
       "    </tr>\n",
       "    <tr>\n",
       "      <th>4</th>\n",
       "      <td>Suicide</td>\n",
       "      <td>False</td>\n",
       "      <td>M</td>\n",
       "      <td>31</td>\n",
       "      <td>White</td>\n",
       "      <td>Other specified</td>\n",
       "      <td>HS/GED</td>\n",
       "      <td>Feb 2012</td>\n",
       "    </tr>\n",
       "  </tbody>\n",
       "</table>\n",
       "</div>"
      ],
      "text/plain": [
       "    intent  police sex  age                    race            place  \\\n",
       "0  Suicide   False   M   34  Asian/Pacific Islander             Home   \n",
       "1  Suicide   False   F   21                   White           Street   \n",
       "2  Suicide   False   M   60                   White  Other specified   \n",
       "3  Suicide   False   M   64                   White             Home   \n",
       "4  Suicide   False   M   31                   White  Other specified   \n",
       "\n",
       "      education      date  \n",
       "0           BA+  Jan 2012  \n",
       "1  Some college  Jan 2012  \n",
       "2           BA+  Jan 2012  \n",
       "3           BA+  Feb 2012  \n",
       "4        HS/GED  Feb 2012  "
      ]
     },
     "execution_count": 20,
     "metadata": {},
     "output_type": "execute_result"
    }
   ],
   "source": [
    "df_clean.head()"
   ]
  },
  {
   "cell_type": "code",
   "execution_count": 22,
   "metadata": {},
   "outputs": [],
   "source": [
    "# save the cleaned data frame to hard disk\n",
    "df_clean.to_csv(\"death_data_cleaned.csv\",index=False)"
   ]
  },
  {
   "cell_type": "markdown",
   "metadata": {},
   "source": [
    "### What is the structure of your dataset?\n",
    "\n",
    "> This dataset is about abnormal death information of America, <br><br>\n",
    "**Columns**:<br>\n",
    "- intent:<br>\n",
    "specifies the situation or intention of the dead person.<br>\n",
    "- police:<br>\n",
    "boolean column indicates whther the police intervened.<br>\n",
    "- sex:<br>\n",
    "M for male, F for Female.<br>\n",
    "- age\n",
    "- race\n",
    "- place:<br>\n",
    "The scene of the accident<br>\n",
    "- education\n",
    "- date\n",
    "\n",
    "\n",
    "\n",
    "\n",
    "### What is/are the main feature(s) of interest in your dataset?\n",
    "\n",
    "> - we can study the correlation between the education and sucide rate.\n",
    "- we can study the ratio of differant intents so we can identify the most serious problem.\n",
    "- analyze the correlation between sucide and race.\n",
    "- correlation between race and police intervention so we can identify whether a specific race is persecuted.\n",
    "- analyze the trend of each intent by time.\n",
    "- correlation between sucide and place.\n",
    "- correlation between sucide and gender.\n",
    "- correlation between police intervention and gender.\n",
    "\n",
    "### What features in the dataset do you think will help support your investigation into your feature(s) of interest?\n",
    "\n",
    "> I think all data features will help as i will study the differant correlations among them."
   ]
  },
  {
   "cell_type": "markdown",
   "metadata": {},
   "source": [
    "## Univariate Exploration\n"
   ]
  },
  {
   "cell_type": "code",
   "execution_count": 4,
   "metadata": {},
   "outputs": [],
   "source": [
    "df = pd.read_csv(\"death_data_cleaned.csv\")"
   ]
  },
  {
   "cell_type": "code",
   "execution_count": 5,
   "metadata": {},
   "outputs": [],
   "source": [
    "#set the base color\n",
    "color = sb.color_palette()[9]"
   ]
  },
  {
   "cell_type": "code",
   "execution_count": 4,
   "metadata": {},
   "outputs": [
    {
     "data": {
      "text/plain": [
       "Text(0.5, 1.0, 'Intentions')"
      ]
     },
     "execution_count": 4,
     "metadata": {},
     "output_type": "execute_result"
    },
    {
     "data": {
      "image/png": "[encoded data removed]",
      "text/plain": [
       "<Figure size 432x288 with 1 Axes>"
      ]
     },
     "metadata": {
      "needs_background": "light"
     },
     "output_type": "display_data"
    }
   ],
   "source": [
    "sb.countplot(data = df,x = df[\"intent\"], order = df.intent.value_counts().index, color=color);\n",
    "for i in range(len(df.intent.value_counts())):\n",
    "    ratio = df.intent.value_counts()[i] * 100 / df.intent.value_counts().sum()\n",
    "    plt.text(y = df.intent.value_counts()[i], x = i, s =\"{:0.1f}%\".format(ratio), ha = 'center')\n",
    "    \n",
    "plt.title(\"Intentions\");"
   ]
  },
  {
   "cell_type": "markdown",
   "metadata": {},
   "source": [
    "**It's obvious that sucide intention is the highest and Homicide comes second**"
   ]
  },
  {
   "cell_type": "code",
   "execution_count": 7,
   "metadata": {},
   "outputs": [],
   "source": [
    "men_ration = df.sex.value_counts()[0] * 100 / df.sex.value_counts().sum() \n",
    "women_ration = df.sex.value_counts()[1] * 100 / df.sex.value_counts().sum() "
   ]
  },
  {
   "cell_type": "code",
   "execution_count": 8,
   "metadata": {},
   "outputs": [
    {
     "data": {
      "text/plain": [
       "Text(1, 9449, '14.3%')"
      ]
     },
     "execution_count": 8,
     "metadata": {},
     "output_type": "execute_result"
    },
    {
     "data": {
      "image/png": "[encoded data removed]",
      "text/plain": [
       "<Figure size 432x288 with 1 Axes>"
      ]
     },
     "metadata": {
      "needs_background": "light"
     },
     "output_type": "display_data"
    }
   ],
   "source": [
    "sb.countplot(data = df,x = df[\"sex\"], order = df.sex.value_counts().index, color=color);\n",
    "locs, labels = plt.xticks()\n",
    "\n",
    "plt.text(locs[0], y = (df.sex.value_counts()[0] - 5000), s =\"{:0.1f}%\".format(men_ration), ha = 'center', color = 'w')\n",
    "plt.text(locs[1], y = (df.sex.value_counts()[1] - 5000), s =\"{:0.1f}%\".format(women_ration), ha = 'center', color = 'w')"
   ]
  },
  {
   "cell_type": "markdown",
   "metadata": {},
   "source": [
    "**i found these facts as i surfed the internet**<br>\n",
    "<i>Women are even more likely than men to attempt suicide. In the US for example, adult women in the US reported a suicide attempt 1.2 times as often as men. But male suicide methods are often more violent, making them more likely to be completed before anyone can intervene.<i><br>\n",
    "**Source:** https://www.bbc.com/future/article/20190313-why-more-men-kill-themselves-than-women\n"
   ]
  },
  {
   "cell_type": "code",
   "execution_count": 35,
   "metadata": {},
   "outputs": [
    {
     "data": {
      "text/plain": [
       "count    100747.000000\n",
       "mean         43.871966\n",
       "std          19.483206\n",
       "min           1.000000\n",
       "25%          27.000000\n",
       "50%          42.000000\n",
       "75%          58.000000\n",
       "max         107.000000\n",
       "Name: age, dtype: float64"
      ]
     },
     "execution_count": 35,
     "metadata": {},
     "output_type": "execute_result"
    }
   ],
   "source": [
    "sub_age.describe()"
   ]
  },
  {
   "cell_type": "code",
   "execution_count": 10,
   "metadata": {},
   "outputs": [
    {
     "data": {
      "image/png": "[encoded data removed]",
      "text/plain": [
       "<Figure size 432x288 with 1 Axes>"
      ]
     },
     "metadata": {
      "needs_background": "light"
     },
     "output_type": "display_data"
    }
   ],
   "source": [
    "# zero age is just a missing data so i will exclude it\n",
    "sub_age = df[df[\"age\"] > 0][\"age\"]\n",
    "\n",
    "bins = np.arange(1,107+1,1)\n",
    "\n",
    "# plotting\n",
    "plt.hist(sub_age,bins=bins,color=color);\n",
    "plt.title(\"Age Distribution\");\n",
    "plt.xlabel(\"age\")\n",
    "plt.ylabel(\"count\");\n",
    "x_ticks = [i for i in range(0,101,5)]\n",
    "plt.xticks(x_ticks,x_ticks,rotation='vertical');"
   ]
  },
  {
   "cell_type": "markdown",
   "metadata": {},
   "source": [
    "**It's bimodal distribution starts to increase from 15 then decrease until 50 then decrease again**"
   ]
  },
  {
   "cell_type": "code",
   "execution_count": 6,
   "metadata": {},
   "outputs": [
    {
     "data": {
      "image/png": "[encoded data removed]",
      "text/plain": [
       "<Figure size 432x288 with 1 Axes>"
      ]
     },
     "metadata": {
      "needs_background": "light"
     },
     "output_type": "display_data"
    }
   ],
   "source": [
    "sb.countplot(data=df, y = \"race\", order = df.race.value_counts().index,color=color);\n",
    "\n",
    "for i in range(len(df.race.value_counts())):\n",
    "    pct_string = df.race.value_counts()[i] * 100 / df.race.value_counts().sum()\n",
    "    plt.text(df.race.value_counts()[i],i,\"{:0.1f}%\".format(pct_string))\n",
    "plt.title(\"Races in America\");"
   ]
  },
  {
   "cell_type": "markdown",
   "metadata": {},
   "source": [
    "**white race is the mjority in america so it's reflicted on our dataset**"
   ]
  },
  {
   "cell_type": "code",
   "execution_count": 12,
   "metadata": {},
   "outputs": [
    {
     "data": {
      "image/png": "[encoded data removed]",
      "text/plain": [
       "<Figure size 432x288 with 1 Axes>"
      ]
     },
     "metadata": {
      "needs_background": "light"
     },
     "output_type": "display_data"
    }
   ],
   "source": [
    "sb.countplot(data=df, x = \"police\", order = df.police.value_counts().index,color=color);"
   ]
  },
  {
   "cell_type": "code",
   "execution_count": 13,
   "metadata": {},
   "outputs": [
    {
     "data": {
      "image/png": "[encoded data removed]",
      "text/plain": [
       "<Figure size 432x288 with 1 Axes>"
      ]
     },
     "metadata": {
      "needs_background": "light"
     },
     "output_type": "display_data"
    }
   ],
   "source": [
    "sb.countplot(data=df, y = \"place\", order = df.place.value_counts().index,color=color);\n",
    "\n",
    "for i in range(len(df.place.value_counts())):\n",
    "    pct_string = df.place.value_counts()[i] * 100 / df.place.value_counts().sum()\n",
    "    plt.text(df.place.value_counts()[i],i,\"{:0.1f}%\".format(pct_string))"
   ]
  },
  {
   "cell_type": "markdown",
   "metadata": {},
   "source": [
    "<i>this shows the places where abnormal death can happen which can help us take a steps towards solving the problem<i>"
   ]
  },
  {
   "cell_type": "code",
   "execution_count": 85,
   "metadata": {},
   "outputs": [
    {
     "data": {
      "text/plain": [
       "Text(0.5, 1.0, 'education vs death')"
      ]
     },
     "execution_count": 85,
     "metadata": {},
     "output_type": "execute_result"
    },
    {
     "data": {
      "image/png": "[encoded data removed]",
      "text/plain": [
       "<Figure size 432x288 with 1 Axes>"
      ]
     },
     "metadata": {
      "needs_background": "light"
     },
     "output_type": "display_data"
    }
   ],
   "source": [
    "sb.countplot(data=df, y = \"education\", order = df.education.value_counts().index,color=color);\n",
    "\n",
    "for i in range(len(df.education.value_counts())):\n",
    "    pct_string = df.education.value_counts()[i] * 100 / df.education.value_counts().sum()\n",
    "    plt.text(df.education.value_counts()[i],i,\"{:0.1f}%\".format(pct_string))\n",
    "plt.title(\"education vs death\")"
   ]
  },
  {
   "cell_type": "markdown",
   "metadata": {},
   "source": [
    "<i>people with high school degrees are more valunrable to abnormal death<i>"
   ]
  },
  {
   "cell_type": "markdown",
   "metadata": {},
   "source": [
    "### Discuss the distribution(s) of your variable(s) of interest. Were there any unusual points? Did you need to perform any transformations?\n",
    "\n",
    "> distribution of age is bimodal, i did not need to perform a distribution as i was exploring just on variable.\n",
    "\n",
    "### Of the features you investigated, were there any unusual distributions? Did you perform any operations on the data to tidy, adjust, or change the form of the data? If so, why did you do this?\n",
    "\n",
    "> male and female death ratio was very biased but i answered why this ratio exists, however the relations were obvious and  straight"
   ]
  },
  {
   "cell_type": "markdown",
   "metadata": {},
   "source": [
    "## Bivariate Exploration\n",
    "\n"
   ]
  },
  {
   "cell_type": "code",
   "execution_count": 6,
   "metadata": {},
   "outputs": [
    {
     "data": {
      "text/html": [
       "<div>\n",
       "<style scoped>\n",
       "    .dataframe tbody tr th:only-of-type {\n",
       "        vertical-align: middle;\n",
       "    }\n",
       "\n",
       "    .dataframe tbody tr th {\n",
       "        vertical-align: top;\n",
       "    }\n",
       "\n",
       "    .dataframe thead th {\n",
       "        text-align: right;\n",
       "    }\n",
       "</style>\n",
       "<table border=\"1\" class=\"dataframe\">\n",
       "  <thead>\n",
       "    <tr style=\"text-align: right;\">\n",
       "      <th></th>\n",
       "      <th>2012</th>\n",
       "      <th>2013</th>\n",
       "      <th>2014</th>\n",
       "    </tr>\n",
       "  </thead>\n",
       "  <tbody>\n",
       "    <tr>\n",
       "      <th>Jan</th>\n",
       "      <td>2758</td>\n",
       "      <td>2864</td>\n",
       "      <td>2651</td>\n",
       "    </tr>\n",
       "    <tr>\n",
       "      <th>Feb</th>\n",
       "      <td>2357</td>\n",
       "      <td>2375</td>\n",
       "      <td>2361</td>\n",
       "    </tr>\n",
       "    <tr>\n",
       "      <th>Mar</th>\n",
       "      <td>2743</td>\n",
       "      <td>2862</td>\n",
       "      <td>2684</td>\n",
       "    </tr>\n",
       "    <tr>\n",
       "      <th>Apr</th>\n",
       "      <td>2795</td>\n",
       "      <td>2798</td>\n",
       "      <td>2862</td>\n",
       "    </tr>\n",
       "    <tr>\n",
       "      <th>May</th>\n",
       "      <td>2999</td>\n",
       "      <td>2806</td>\n",
       "      <td>2864</td>\n",
       "    </tr>\n",
       "    <tr>\n",
       "      <th>Jun</th>\n",
       "      <td>2826</td>\n",
       "      <td>2920</td>\n",
       "      <td>2931</td>\n",
       "    </tr>\n",
       "    <tr>\n",
       "      <th>July</th>\n",
       "      <td>3026</td>\n",
       "      <td>3079</td>\n",
       "      <td>2884</td>\n",
       "    </tr>\n",
       "    <tr>\n",
       "      <th>Aug</th>\n",
       "      <td>2954</td>\n",
       "      <td>2859</td>\n",
       "      <td>2970</td>\n",
       "    </tr>\n",
       "    <tr>\n",
       "      <th>Sep</th>\n",
       "      <td>2852</td>\n",
       "      <td>2742</td>\n",
       "      <td>2914</td>\n",
       "    </tr>\n",
       "    <tr>\n",
       "      <th>Oct</th>\n",
       "      <td>2733</td>\n",
       "      <td>2808</td>\n",
       "      <td>2865</td>\n",
       "    </tr>\n",
       "    <tr>\n",
       "      <th>Nov</th>\n",
       "      <td>2729</td>\n",
       "      <td>2758</td>\n",
       "      <td>2756</td>\n",
       "    </tr>\n",
       "    <tr>\n",
       "      <th>Dec</th>\n",
       "      <td>2791</td>\n",
       "      <td>2765</td>\n",
       "      <td>2857</td>\n",
       "    </tr>\n",
       "  </tbody>\n",
       "</table>\n",
       "</div>"
      ],
      "text/plain": [
       "      2012  2013  2014\n",
       "Jan   2758  2864  2651\n",
       "Feb   2357  2375  2361\n",
       "Mar   2743  2862  2684\n",
       "Apr   2795  2798  2862\n",
       "May   2999  2806  2864\n",
       "Jun   2826  2920  2931\n",
       "July  3026  3079  2884\n",
       "Aug   2954  2859  2970\n",
       "Sep   2852  2742  2914\n",
       "Oct   2733  2808  2865\n",
       "Nov   2729  2758  2756\n",
       "Dec   2791  2765  2857"
      ]
     },
     "execution_count": 6,
     "metadata": {},
     "output_type": "execute_result"
    }
   ],
   "source": [
    "# set up the data\n",
    "df_date_sep = df.date.apply(lambda x: x.split(\" \"))\n",
    "month = df_date_sep.apply(lambda x: x[0])\n",
    "year = df_date_sep.apply(lambda x: x[1])\n",
    "\n",
    "ref = df.date.value_counts()\n",
    "death_time = pd.DataFrame(columns = year.unique(),index = month.unique())\n",
    "\n",
    "# fill pivot data frame with it's correspondent \n",
    "for year_piv in death_time.columns:\n",
    "    for month_piv in death_time.index:\n",
    "        for k_ref in ref.keys():\n",
    "            month_ref = re.findall(\"[a-zA-Z]+\",k_ref)\n",
    "            year_ref = re.findall(\"[0-9]+\",k_ref)\n",
    "            if month_piv == str(month_ref[0]) and  year_piv == str(year_ref[0]):\n",
    "                death_time.loc[month_piv, year_piv] = ref[k_ref]\n",
    "                break\n",
    "death_time"
   ]
  },
  {
   "cell_type": "code",
   "execution_count": 7,
   "metadata": {
    "scrolled": true
   },
   "outputs": [
    {
     "data": {
      "image/png": "[encoded data removed]",
      "text/plain": [
       "<Figure size 432x288 with 2 Axes>"
      ]
     },
     "metadata": {
      "needs_background": "light"
     },
     "output_type": "display_data"
    }
   ],
   "source": [
    "# plot         \n",
    "death_time = death_time.astype(int)\n",
    "sb.heatmap(data = death_time,cmap=\"rocket_r\");\n",
    "plt.title(\"Distribution of Death Through Months\");"
   ]
  },
  {
   "cell_type": "markdown",
   "metadata": {},
   "source": [
    "<i>This Heat map allow us to see the seasonality of abnormal death, it's obvious that the concentration is at the spring and start of the summer, There is a weird observation that February has very low number of deaths that needs further investgations with dataset that havee more years\n",
    "<i>"
   ]
  },
  {
   "cell_type": "code",
   "execution_count": 6,
   "metadata": {},
   "outputs": [
    {
     "data": {
      "text/html": [
       "<div>\n",
       "<style scoped>\n",
       "    .dataframe tbody tr th:only-of-type {\n",
       "        vertical-align: middle;\n",
       "    }\n",
       "\n",
       "    .dataframe tbody tr th {\n",
       "        vertical-align: top;\n",
       "    }\n",
       "\n",
       "    .dataframe thead th {\n",
       "        text-align: right;\n",
       "    }\n",
       "</style>\n",
       "<table border=\"1\" class=\"dataframe\">\n",
       "  <thead>\n",
       "    <tr style=\"text-align: right;\">\n",
       "      <th></th>\n",
       "      <th>2012</th>\n",
       "      <th>2013</th>\n",
       "      <th>2014</th>\n",
       "    </tr>\n",
       "  </thead>\n",
       "  <tbody>\n",
       "    <tr>\n",
       "      <th>Jan</th>\n",
       "      <td>1707</td>\n",
       "      <td>1797</td>\n",
       "      <td>1716</td>\n",
       "    </tr>\n",
       "    <tr>\n",
       "      <th>Feb</th>\n",
       "      <td>1549</td>\n",
       "      <td>1592</td>\n",
       "      <td>1591</td>\n",
       "    </tr>\n",
       "    <tr>\n",
       "      <th>Mar</th>\n",
       "      <td>1707</td>\n",
       "      <td>1870</td>\n",
       "      <td>1732</td>\n",
       "    </tr>\n",
       "    <tr>\n",
       "      <th>Apr</th>\n",
       "      <td>1745</td>\n",
       "      <td>1819</td>\n",
       "      <td>1874</td>\n",
       "    </tr>\n",
       "    <tr>\n",
       "      <th>May</th>\n",
       "      <td>1932</td>\n",
       "      <td>1791</td>\n",
       "      <td>1783</td>\n",
       "    </tr>\n",
       "    <tr>\n",
       "      <th>Jun</th>\n",
       "      <td>1724</td>\n",
       "      <td>1797</td>\n",
       "      <td>1846</td>\n",
       "    </tr>\n",
       "    <tr>\n",
       "      <th>July</th>\n",
       "      <td>1789</td>\n",
       "      <td>1893</td>\n",
       "      <td>1832</td>\n",
       "    </tr>\n",
       "    <tr>\n",
       "      <th>Aug</th>\n",
       "      <td>1796</td>\n",
       "      <td>1786</td>\n",
       "      <td>1839</td>\n",
       "    </tr>\n",
       "    <tr>\n",
       "      <th>Sep</th>\n",
       "      <td>1717</td>\n",
       "      <td>1728</td>\n",
       "      <td>1898</td>\n",
       "    </tr>\n",
       "    <tr>\n",
       "      <th>Oct</th>\n",
       "      <td>1696</td>\n",
       "      <td>1741</td>\n",
       "      <td>1819</td>\n",
       "    </tr>\n",
       "    <tr>\n",
       "      <th>Nov</th>\n",
       "      <td>1680</td>\n",
       "      <td>1698</td>\n",
       "      <td>1708</td>\n",
       "    </tr>\n",
       "    <tr>\n",
       "      <th>Dec</th>\n",
       "      <td>1624</td>\n",
       "      <td>1663</td>\n",
       "      <td>1696</td>\n",
       "    </tr>\n",
       "  </tbody>\n",
       "</table>\n",
       "</div>"
      ],
      "text/plain": [
       "      2012  2013  2014\n",
       "Jan   1707  1797  1716\n",
       "Feb   1549  1592  1591\n",
       "Mar   1707  1870  1732\n",
       "Apr   1745  1819  1874\n",
       "May   1932  1791  1783\n",
       "Jun   1724  1797  1846\n",
       "July  1789  1893  1832\n",
       "Aug   1796  1786  1839\n",
       "Sep   1717  1728  1898\n",
       "Oct   1696  1741  1819\n",
       "Nov   1680  1698  1708\n",
       "Dec   1624  1663  1696"
      ]
     },
     "execution_count": 6,
     "metadata": {},
     "output_type": "execute_result"
    }
   ],
   "source": [
    "# set up the data\n",
    "df_sucide = df.query(\"intent == 'Suicide'\")\n",
    "df_date_sep = df_sucide.date.apply(lambda x: x.split(\" \"))\n",
    "month = df_date_sep.apply(lambda x: x[0])\n",
    "year = df_date_sep.apply(lambda x: x[1])\n",
    "\n",
    "ref = df_sucide.date.value_counts()\n",
    "suicide_through_time = pd.DataFrame(columns = year.unique(),index = month.unique())\n",
    "\n",
    "# fill pivot data frame with it's correspondent \n",
    "for year_piv in suicide_through_time.columns:\n",
    "    for month_piv in suicide_through_time.index:\n",
    "        for k_ref in ref.keys():\n",
    "            month_ref = re.findall(\"[a-zA-Z]+\",k_ref)\n",
    "            year_ref = re.findall(\"[0-9]+\",k_ref)\n",
    "            if month_piv == str(month_ref[0]) and  year_piv == str(year_ref[0]):\n",
    "                suicide_through_time.loc[month_piv, year_piv] = ref[k_ref]\n",
    "                break\n",
    "                \n",
    "suicide_through_time"
   ]
  },
  {
   "cell_type": "code",
   "execution_count": 7,
   "metadata": {},
   "outputs": [
    {
     "data": {
      "image/png": "[encoded data removed]",
      "text/plain": [
       "<Figure size 432x288 with 2 Axes>"
      ]
     },
     "metadata": {
      "needs_background": "light"
     },
     "output_type": "display_data"
    }
   ],
   "source": [
    "# plot\n",
    "suicide_through_time = suicide_through_time.astype(int)\n",
    "sb.heatmap(data = suicide_through_time,cmap=\"rocket_r\");\n",
    "plt.title(\"Number of Suicide Through Time\");"
   ]
  },
  {
   "cell_type": "markdown",
   "metadata": {},
   "source": [
    "<i>Because sucide have the highest portion of the data i decided to show it solo.<i><br>\n",
    "<i>Research on seasonal effects on suicide rates suggests that the prevalence of suicide is greatest during the late spring and early summer months, despite the common belief that suicide rates peak during the cold and dark months of the winter season.<i><br>\n",
    "**Source:** https://en.wikipedia.org/wiki/Seasonal_effects_on_suicide_rates#:~:text=3.4%20Psychology-,General%20effects,in%20the%20spring%20and%20summer."
   ]
  },
  {
   "cell_type": "code",
   "execution_count": 10,
   "metadata": {},
   "outputs": [
    {
     "data": {
      "text/html": [
       "<div>\n",
       "<style scoped>\n",
       "    .dataframe tbody tr th:only-of-type {\n",
       "        vertical-align: middle;\n",
       "    }\n",
       "\n",
       "    .dataframe tbody tr th {\n",
       "        vertical-align: top;\n",
       "    }\n",
       "\n",
       "    .dataframe thead th {\n",
       "        text-align: right;\n",
       "    }\n",
       "</style>\n",
       "<table border=\"1\" class=\"dataframe\">\n",
       "  <thead>\n",
       "    <tr style=\"text-align: right;\">\n",
       "      <th></th>\n",
       "      <th>Suicide</th>\n",
       "      <th>Undetermined</th>\n",
       "      <th>Accidental</th>\n",
       "      <th>Homicide</th>\n",
       "    </tr>\n",
       "  </thead>\n",
       "  <tbody>\n",
       "    <tr>\n",
       "      <th>White</th>\n",
       "      <td>55372</td>\n",
       "      <td>585</td>\n",
       "      <td>1132</td>\n",
       "      <td>9147</td>\n",
       "    </tr>\n",
       "    <tr>\n",
       "      <th>Asian/Pacific Islander</th>\n",
       "      <td>745</td>\n",
       "      <td>10</td>\n",
       "      <td>12</td>\n",
       "      <td>559</td>\n",
       "    </tr>\n",
       "    <tr>\n",
       "      <th>Black</th>\n",
       "      <td>3332</td>\n",
       "      <td>126</td>\n",
       "      <td>328</td>\n",
       "      <td>19510</td>\n",
       "    </tr>\n",
       "    <tr>\n",
       "      <th>Hispanic</th>\n",
       "      <td>3171</td>\n",
       "      <td>72</td>\n",
       "      <td>145</td>\n",
       "      <td>5634</td>\n",
       "    </tr>\n",
       "    <tr>\n",
       "      <th>Native American/Native Alaskan</th>\n",
       "      <td>555</td>\n",
       "      <td>14</td>\n",
       "      <td>22</td>\n",
       "      <td>326</td>\n",
       "    </tr>\n",
       "  </tbody>\n",
       "</table>\n",
       "</div>"
      ],
      "text/plain": [
       "                               Suicide Undetermined Accidental Homicide\n",
       "White                            55372          585       1132     9147\n",
       "Asian/Pacific Islander             745           10         12      559\n",
       "Black                             3332          126        328    19510\n",
       "Hispanic                          3171           72        145     5634\n",
       "Native American/Native Alaskan     555           14         22      326"
      ]
     },
     "execution_count": 10,
     "metadata": {},
     "output_type": "execute_result"
    }
   ],
   "source": [
    "race_lst = df.race.unique()\n",
    "intent_lst = df.intent.unique()[:-1]\n",
    "container = dict()\n",
    "\n",
    "for race in race_lst:\n",
    "    for intent in intent_lst:\n",
    "        total = df.query(\"race == '{}' and intent == '{}'\".format(race,intent)).shape[0]\n",
    "        #print(race,intent)\n",
    "        container[race + \" - \" + intent] = total\n",
    "\n",
    "index = set([re.findall(\"(.*)\\ - \", i)[0] for i in container.keys()])\n",
    "\n",
    "race_intent = pd.DataFrame(index=index,columns=intent_lst)\n",
    "\n",
    "for k,v in container.items():\n",
    "    indx_ref = re.findall(\"(.*)\\ - \", k)[0]\n",
    "    col_ref = re.findall(\"\\ - (.*)\", k)[0]\n",
    "    for indx_df in race_intent.index:\n",
    "        for col_df in race_intent.columns:\n",
    "            if indx_ref == indx_df and col_df == col_ref:\n",
    "                race_intent.loc[indx_df,col_df] = v\n",
    "                break\n",
    "race_intent"
   ]
  },
  {
   "cell_type": "code",
   "execution_count": 11,
   "metadata": {},
   "outputs": [
    {
     "data": {
      "image/png": "[encoded data removed]",
      "text/plain": [
       "<Figure size 432x288 with 2 Axes>"
      ]
     },
     "metadata": {
      "needs_background": "light"
     },
     "output_type": "display_data"
    }
   ],
   "source": [
    "race_intent = race_intent.astype(int)\n",
    "sb.heatmap(data=race_intent,cmap=\"rocket_r\")\n",
    "plt.title(\"Distribution Of Intention Among Races\");"
   ]
  },
  {
   "cell_type": "markdown",
   "metadata": {},
   "source": [
    "<i>This Heat map shows the distribution of intentions among races, we can observe that the most race that suicides is the white race, and black race is the killed<i>"
   ]
  },
  {
   "cell_type": "code",
   "execution_count": 12,
   "metadata": {},
   "outputs": [
    {
     "data": {
      "image/png": "[encoded data removed]",
      "text/plain": [
       "<Figure size 432x288 with 1 Axes>"
      ]
     },
     "metadata": {
      "needs_background": "light"
     },
     "output_type": "display_data"
    }
   ],
   "source": [
    "# set data\n",
    "container = dict()\n",
    "order=[\"White\",\"Black\",\\\n",
    "        \"Hispanic\",\"Asian/Pacific Islander\",\"Native American/Native Alaskan\"]\n",
    "\n",
    "for elm in order:\n",
    "    container[elm] = df.query(\"race == '{}'and police == True\".format(elm)).shape[0]\n",
    "    \n",
    "# plot\n",
    "fig = plt.figure()\n",
    "ax = fig.add_axes([0,0,1,1])\n",
    "race = [i for i in container.keys()]\n",
    "police = [i for i in container.values()]\n",
    "ax.bar(race,police,color=color)\n",
    "plt.xticks(rotation='vertical')\n",
    "plt.title(\"Most Race Shoted By Police \");"
   ]
  },
  {
   "cell_type": "markdown",
   "metadata": {},
   "source": [
    "<i>Yes White race is most shot by police but that not due to racist it's more likely because white race has the highest percentage by 61%, so that needs further investgation so we don't fall into simpson's paradox<i>\n",
    "**Source:**https://en.wikipedia.org/wiki/Race_and_ethnicity_in_the_United_States#:~:text=The%20White%2C%20non%2DHispanic%20or,and%20Latinos)%20being%2077%25."
   ]
  },
  {
   "cell_type": "code",
   "execution_count": 13,
   "metadata": {},
   "outputs": [
    {
     "data": {
      "image/png": "[encoded data removed]",
      "text/plain": [
       "<Figure size 432x288 with 1 Axes>"
      ]
     },
     "metadata": {
      "needs_background": "light"
     },
     "output_type": "display_data"
    }
   ],
   "source": [
    "sb.violinplot(data=df,x=\"intent\",y=\"age\",color=color);\n",
    "plt.title(\"Age Distribution Through differant intentions\");"
   ]
  },
  {
   "cell_type": "markdown",
   "metadata": {},
   "source": [
    "<i>All categories have bimodal distributions except homicide most of it happens among young people<i>"
   ]
  },
  {
   "cell_type": "code",
   "execution_count": 34,
   "metadata": {},
   "outputs": [
    {
     "data": {
      "image/png": "[encoded data removed]",
      "text/plain": [
       "<Figure size 432x288 with 1 Axes>"
      ]
     },
     "metadata": {
      "needs_background": "light"
     },
     "output_type": "display_data"
    }
   ],
   "source": [
    "sb.boxplot(data=df,x=\"intent\",y=\"age\",color=color);\n",
    "plt.title(\"Age Distribution Through differant intentions\");"
   ]
  },
  {
   "cell_type": "code",
   "execution_count": 65,
   "metadata": {},
   "outputs": [
    {
     "data": {
      "text/html": [
       "<div>\n",
       "<style scoped>\n",
       "    .dataframe tbody tr th:only-of-type {\n",
       "        vertical-align: middle;\n",
       "    }\n",
       "\n",
       "    .dataframe tbody tr th {\n",
       "        vertical-align: top;\n",
       "    }\n",
       "\n",
       "    .dataframe thead th {\n",
       "        text-align: right;\n",
       "    }\n",
       "</style>\n",
       "<table border=\"1\" class=\"dataframe\">\n",
       "  <thead>\n",
       "    <tr style=\"text-align: right;\">\n",
       "      <th></th>\n",
       "      <th>age</th>\n",
       "      <th>death_count</th>\n",
       "    </tr>\n",
       "  </thead>\n",
       "  <tbody>\n",
       "    <tr>\n",
       "      <th>0</th>\n",
       "      <td>22</td>\n",
       "      <td>2712</td>\n",
       "    </tr>\n",
       "    <tr>\n",
       "      <th>1</th>\n",
       "      <td>21</td>\n",
       "      <td>2504</td>\n",
       "    </tr>\n",
       "    <tr>\n",
       "      <th>2</th>\n",
       "      <td>23</td>\n",
       "      <td>2472</td>\n",
       "    </tr>\n",
       "    <tr>\n",
       "      <th>3</th>\n",
       "      <td>24</td>\n",
       "      <td>2437</td>\n",
       "    </tr>\n",
       "    <tr>\n",
       "      <th>4</th>\n",
       "      <td>26</td>\n",
       "      <td>2231</td>\n",
       "    </tr>\n",
       "    <tr>\n",
       "      <th>...</th>\n",
       "      <td>...</td>\n",
       "      <td>...</td>\n",
       "    </tr>\n",
       "    <tr>\n",
       "      <th>99</th>\n",
       "      <td>99</td>\n",
       "      <td>6</td>\n",
       "    </tr>\n",
       "    <tr>\n",
       "      <th>100</th>\n",
       "      <td>101</td>\n",
       "      <td>2</td>\n",
       "    </tr>\n",
       "    <tr>\n",
       "      <th>101</th>\n",
       "      <td>102</td>\n",
       "      <td>2</td>\n",
       "    </tr>\n",
       "    <tr>\n",
       "      <th>102</th>\n",
       "      <td>100</td>\n",
       "      <td>1</td>\n",
       "    </tr>\n",
       "    <tr>\n",
       "      <th>103</th>\n",
       "      <td>107</td>\n",
       "      <td>1</td>\n",
       "    </tr>\n",
       "  </tbody>\n",
       "</table>\n",
       "<p>104 rows × 2 columns</p>\n",
       "</div>"
      ],
      "text/plain": [
       "     age  death_count\n",
       "0     22         2712\n",
       "1     21         2504\n",
       "2     23         2472\n",
       "3     24         2437\n",
       "4     26         2231\n",
       "..   ...          ...\n",
       "99    99            6\n",
       "100  101            2\n",
       "101  102            2\n",
       "102  100            1\n",
       "103  107            1\n",
       "\n",
       "[104 rows x 2 columns]"
      ]
     },
     "execution_count": 65,
     "metadata": {},
     "output_type": "execute_result"
    }
   ],
   "source": [
    "# death count for every group of age\n",
    "age_death = df.age.value_counts().to_frame()\n",
    "\n",
    "age_death.reset_index(level=0, inplace=True)\n",
    "age_death.rename(columns={\"index\":\"age\",\"age\":\"death_count\"},inplace=True)\n",
    "\n",
    "age_death"
   ]
  },
  {
   "cell_type": "code",
   "execution_count": 86,
   "metadata": {},
   "outputs": [
    {
     "data": {
      "image/png": "[encoded data removed]",
      "text/plain": [
       "<Figure size 1080x360 with 1 Axes>"
      ]
     },
     "metadata": {
      "needs_background": "light"
     },
     "output_type": "display_data"
    }
   ],
   "source": [
    "# Plotting\n",
    "sb.scatterplot(data=age_death,x=\"age\",y=\"death_count\",color=color)\n",
    "\n",
    "plt.yscale(\"log\")\n",
    "\n",
    "x_ticks=[i for i in range(0,101,5)]\n",
    "plt.xticks(x_ticks,x_ticks);\n",
    "\n",
    "y_ticks=[1,3,10,30,100,300,1000]\n",
    "plt.yticks(y_ticks,y_ticks);\n",
    "\n",
    "plt.title(\"Death Vs Age\");"
   ]
  },
  {
   "cell_type": "markdown",
   "metadata": {},
   "source": [
    "<i>Here we can see the trend clearer it reaches the peak at 22 then starts to fall gradualley<i>"
   ]
  },
  {
   "cell_type": "code",
   "execution_count": 4,
   "metadata": {
    "scrolled": true
   },
   "outputs": [
    {
     "data": {
      "text/html": [
       "<div>\n",
       "<style scoped>\n",
       "    .dataframe tbody tr th:only-of-type {\n",
       "        vertical-align: middle;\n",
       "    }\n",
       "\n",
       "    .dataframe tbody tr th {\n",
       "        vertical-align: top;\n",
       "    }\n",
       "\n",
       "    .dataframe thead th {\n",
       "        text-align: right;\n",
       "    }\n",
       "</style>\n",
       "<table border=\"1\" class=\"dataframe\">\n",
       "  <thead>\n",
       "    <tr style=\"text-align: right;\">\n",
       "      <th></th>\n",
       "      <th>age</th>\n",
       "      <th>death_count</th>\n",
       "    </tr>\n",
       "  </thead>\n",
       "  <tbody>\n",
       "    <tr>\n",
       "      <th>0</th>\n",
       "      <td>54</td>\n",
       "      <td>1390</td>\n",
       "    </tr>\n",
       "    <tr>\n",
       "      <th>1</th>\n",
       "      <td>53</td>\n",
       "      <td>1376</td>\n",
       "    </tr>\n",
       "    <tr>\n",
       "      <th>2</th>\n",
       "      <td>56</td>\n",
       "      <td>1343</td>\n",
       "    </tr>\n",
       "    <tr>\n",
       "      <th>3</th>\n",
       "      <td>51</td>\n",
       "      <td>1338</td>\n",
       "    </tr>\n",
       "    <tr>\n",
       "      <th>4</th>\n",
       "      <td>52</td>\n",
       "      <td>1334</td>\n",
       "    </tr>\n",
       "    <tr>\n",
       "      <th>...</th>\n",
       "      <td>...</td>\n",
       "      <td>...</td>\n",
       "    </tr>\n",
       "    <tr>\n",
       "      <th>90</th>\n",
       "      <td>10</td>\n",
       "      <td>3</td>\n",
       "    </tr>\n",
       "    <tr>\n",
       "      <th>91</th>\n",
       "      <td>101</td>\n",
       "      <td>2</td>\n",
       "    </tr>\n",
       "    <tr>\n",
       "      <th>92</th>\n",
       "      <td>102</td>\n",
       "      <td>2</td>\n",
       "    </tr>\n",
       "    <tr>\n",
       "      <th>93</th>\n",
       "      <td>9</td>\n",
       "      <td>2</td>\n",
       "    </tr>\n",
       "    <tr>\n",
       "      <th>94</th>\n",
       "      <td>100</td>\n",
       "      <td>1</td>\n",
       "    </tr>\n",
       "  </tbody>\n",
       "</table>\n",
       "<p>95 rows × 2 columns</p>\n",
       "</div>"
      ],
      "text/plain": [
       "    age  death_count\n",
       "0    54         1390\n",
       "1    53         1376\n",
       "2    56         1343\n",
       "3    51         1338\n",
       "4    52         1334\n",
       "..  ...          ...\n",
       "90   10            3\n",
       "91  101            2\n",
       "92  102            2\n",
       "93    9            2\n",
       "94  100            1\n",
       "\n",
       "[95 rows x 2 columns]"
      ]
     },
     "execution_count": 4,
     "metadata": {},
     "output_type": "execute_result"
    }
   ],
   "source": [
    "# lsit of the\n",
    "sucide_age = df.query(\"intent == 'Suicide'\")[\"age\"].value_counts().to_frame()\n",
    "sucide_age.reset_index(level=0,inplace=True)\n",
    "sucide_age.rename(columns={\"index\":\"age\", \"age\":\"death_count\"},inplace=True)\n",
    "sucide_age"
   ]
  },
  {
   "cell_type": "code",
   "execution_count": 5,
   "metadata": {
    "scrolled": false
   },
   "outputs": [
    {
     "data": {
      "text/plain": [
       "Text(0.5, 1.0, 'Suicide age distribution')"
      ]
     },
     "execution_count": 5,
     "metadata": {},
     "output_type": "execute_result"
    },
    {
     "data": {
      "image/png": "[encoded data removed]",
      "text/plain": [
       "<Figure size 432x288 with 1 Axes>"
      ]
     },
     "metadata": {
      "needs_background": "light"
     },
     "output_type": "display_data"
    }
   ],
   "source": [
    "# Plotting\n",
    "sb.scatterplot(data=sucide_age,x=\"age\",y=\"death_count\",color=color)\n",
    "plt.title(\"Suicide age distribution\")"
   ]
  },
  {
   "cell_type": "markdown",
   "metadata": {},
   "source": [
    "<i>suicide trend among age it reaches the peak at 54 then it takes to fall<i>"
   ]
  },
  {
   "cell_type": "markdown",
   "metadata": {},
   "source": [
    "### Talk about some of the relationships you observed in this part of the investigation. How did the feature(s) of interest vary with other features in the dataset?\n",
    "\n",
    "> - death numbers in febrauary are very small among all the years.\n",
    "- White race is the most shoted by police but this may due to that they have the higher percentage between american people\n",
    "- Homicide is mostly commited among young people\n",
    "- Suicide increases at spring\n",
    "- Hieghst age velunrable to sicide is 54\n",
    "- Highest Age velnurable to abnormal death whether sucide accedent or homicide is 22\n",
    "\n",
    "\n",
    "### Did you observe any interesting relationships between the other features (not the main feature(s) of interest)?\n",
    "\n",
    "> not much "
   ]
  },
  {
   "cell_type": "markdown",
   "metadata": {},
   "source": [
    "## Multivariate Exploration\n"
   ]
  },
  {
   "cell_type": "code",
   "execution_count": 32,
   "metadata": {},
   "outputs": [
    {
     "data": {
      "image/png": "[encoded data removed]",
      "text/plain": [
       "<Figure size 1080x216 with 5 Axes>"
      ]
     },
     "metadata": {
      "needs_background": "light"
     },
     "output_type": "display_data"
    },
    {
     "data": {
      "image/png": "[encoded data removed]",
      "text/plain": [
       "<Figure size 1080x216 with 5 Axes>"
      ]
     },
     "metadata": {
      "needs_background": "light"
     },
     "output_type": "display_data"
    }
   ],
   "source": [
    "# get the same order for both grids for better comparison:\n",
    "order = df.race.unique()\n",
    "\n",
    "df_sub = df.copy()\n",
    "\n",
    "df_sub['race'] = df['race'].astype('category')\n",
    "df_sub.race.cat.set_categories(order, inplace=True)\n",
    "\n",
    "suicide = df_sub.query(\"intent == 'Suicide'\")\n",
    "homicide = df_sub.query(\"intent == 'Homicide'\")\n",
    "\n",
    "# plotting\n",
    "a = sb.FacetGrid(data=suicide,col=\"race\")\n",
    "a.map(sb.distplot, \"age\")\n",
    "a.fig.suptitle('Suicide ages: Race comparison', fontsize=16, fontweight='bold')\n",
    "plt.subplots_adjust(top=0.8)\n",
    "\n",
    "\n",
    "b = sb.FacetGrid(data=homicide,col=\"race\")\n",
    "b.map(sb.distplot, \"age\")\n",
    "b.fig.suptitle('Homicide ages: Race comparison', fontsize=16, fontweight='bold')\n",
    "plt.subplots_adjust(top=0.8)"
   ]
  },
  {
   "cell_type": "markdown",
   "metadata": {},
   "source": [
    "*In both Homicide and suicide, white race density is arround 55, while other races density is arround 20 then it takes falling*"
   ]
  },
  {
   "cell_type": "code",
   "execution_count": 14,
   "metadata": {},
   "outputs": [
    {
     "data": {
      "image/png": "[encoded data removed]",
      "text/plain": [
       "<Figure size 1080x360 with 1 Axes>"
      ]
     },
     "metadata": {
      "needs_background": "light"
     },
     "output_type": "display_data"
    }
   ],
   "source": [
    "plt.rcParams[\"figure.figsize\"] = [15, 5]\n",
    "\n",
    "\n",
    "cmaap = cm.get_cmap(\"rocket_r\")\n",
    "\n",
    "death_time.T.plot(kind=\"bar\",cmap=cmaap);\n",
    "plt.title(\"death through time\");"
   ]
  },
  {
   "cell_type": "code",
   "execution_count": 271,
   "metadata": {},
   "outputs": [
    {
     "data": {
      "image/png": "[encoded data removed]",
      "text/plain": [
       "<Figure size 1080x360 with 1 Axes>"
      ]
     },
     "metadata": {
      "needs_background": "light"
     },
     "output_type": "display_data"
    }
   ],
   "source": [
    "race_intent.plot(kind=\"barh\",cmap=cmap);"
   ]
  },
  {
   "cell_type": "markdown",
   "metadata": {},
   "source": [
    "<i>Highest Sucide is in the white race, highest homicide is in black race<i>"
   ]
  },
  {
   "cell_type": "code",
   "execution_count": 12,
   "metadata": {},
   "outputs": [
    {
     "data": {
      "image/png": "[encoded data removed]",
      "text/plain": [
       "<Figure size 1080x360 with 1 Axes>"
      ]
     },
     "metadata": {
      "needs_background": "light"
     },
     "output_type": "display_data"
    }
   ],
   "source": [
    "suicide_through_time.T.plot(kind=\"bar\",cmap=cmaap)\n",
    "plt.title(\"suicide through time\");"
   ]
  },
  {
   "cell_type": "markdown",
   "metadata": {},
   "source": [
    "<i>we can observe the spikes and data is concentrated at the middle which means the spring and start of summer\n",
    "    <i>"
   ]
  },
  {
   "cell_type": "markdown",
   "metadata": {},
   "source": [
    "### Talk about some of the relationships you observed in this part of the investigation. Were there features that strengthened each other in terms of looking at your feature(s) of interest?\n",
    "\n",
    "> These plots ensures the same relations that we observed in the last section but with broder way of presentation,\n",
    "However In both Homicide and Suicide, white race density is arround 55, while other races density is arround 20 then it takes falling.\n",
    "\n",
    "### Were there any interesting or surprising interactions between features?\n",
    "\n",
    "> white race is known that is the majority in america and is less exposed to bullying and other abuses that may happen more to minor races however graphs says white race is the most suicidal, please **note our limitation** here that we study just the data of America where white race is 61% of their people, so if we have data for Africa or for latin countries we may have other results, so we can not decide for know that the white race is the most Sucidal race,\\\n",
    "the second thing that all races denisty curves are close to each others as it raise at 20 and takes decreasing but white race peak at arround 55."
   ]
  }
 ],
 "metadata": {
  "kernelspec": {
   "display_name": "Python 3",
   "language": "python",
   "name": "python3"
  },
  "language_info": {
   "codemirror_mode": {
    "name": "ipython",
    "version": 3
   },
   "file_extension": ".py",
   "mimetype": "text/x-python",
   "name": "python",
   "nbconvert_exporter": "python",
   "pygments_lexer": "ipython3",
   "version": "3.7.6"
  }
 },
 "nbformat": 4,
 "nbformat_minor": 2
}
